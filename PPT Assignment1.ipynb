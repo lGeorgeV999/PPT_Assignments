{
 "cells": [
  {
   "cell_type": "markdown",
   "id": "bf27adbf",
   "metadata": {},
   "source": [
    "**Q1.** Given an array of integers nums and an integer target, return indices of the two numbers such that they add up to target.\n",
    "\n",
    "You may assume that each input would have exactly one solution, and you may not use the same element twice.\n",
    "\n",
    "You can return the answer in any order.\n",
    "\n",
    "**Example:**\n",
    "Input: nums = [2,7,11,15], target = 9\n",
    "Output0 [0,1]"
   ]
  },
  {
   "cell_type": "code",
   "execution_count": 4,
   "id": "2c8373b5",
   "metadata": {},
   "outputs": [
    {
     "name": "stdout",
     "output_type": "stream",
     "text": [
      "[0, 1]\n"
     ]
    }
   ],
   "source": [
    "def twoSum(nums, target):\n",
    "    # Create a dictionary to store the complement of each number\n",
    "    complement_map = {}\n",
    "    # Iterate through the array\n",
    "    for i, num in enumerate(nums):\n",
    "        # Check if the complement of the current number exists in the map\n",
    "        complement = target - num\n",
    "        if complement in complement_map:\n",
    "            # Return the indices of the two numbers\n",
    "            return [complement_map[complement], i]\n",
    "        \n",
    "        # If the complement doesn't exist, add the current number to the map\n",
    "        complement_map[num] = i\n",
    "    \n",
    "    # If no solution is found, return an empty list\n",
    "    return []\n",
    "\n",
    "# Testing the function with the example input\n",
    "nums = [2, 7, 11, 15]\n",
    "target = 9\n",
    "output = twoSum(nums, target)\n",
    "print(output)\n"
   ]
  },
  {
   "cell_type": "markdown",
   "id": "fa56818a",
   "metadata": {},
   "source": [
    "**Q2.** Given an integer array nums and an integer val, remove all occurrences of val in nums in-place. The order of the elements may be changed. Then return the number of elements in nums which are not equal to val.\n",
    "\n",
    "Consider the number of elements in nums which are not equal to val be k, to get accepted, you need to do the following things:\n",
    "\n",
    "- Change the array nums such that the first k elements of nums contain the elements which are not equal to val. The remaining elements of nums are not important as well as the size of nums.\n",
    "- Return k.\n",
    "\n",
    "**Example :**\n",
    "Input: nums = [3,2,2,3], val = 3\n",
    "Output: 2, nums = [2,2,_*,_*]\n",
    "\n",
    "**Explanation:** Your function should return k = 2, with the first two elements of nums being 2. It does not matter what you leave beyond the returned k (hence they are underscores)"
   ]
  },
  {
   "cell_type": "code",
   "execution_count": 13,
   "id": "268b2078",
   "metadata": {},
   "outputs": [
    {
     "name": "stdout",
     "output_type": "stream",
     "text": [
      "2\n",
      "[2, 2, '_*', '_*']\n"
     ]
    }
   ],
   "source": [
    "def removetheElement(nums, val):\n",
    "    k = 0  # Count of elements not equal to val\n",
    "    n = len(nums)\n",
    "\n",
    "    # Iterate through the array with two pointers\n",
    "    for i in range(n):\n",
    "        if nums[i] != val:\n",
    "            # Move the non-val element to the front of the array\n",
    "            nums[k] = nums[i]\n",
    "            k += 1\n",
    "\n",
    "    # Modify the array in-place\n",
    "    for j in range(k, n):\n",
    "        nums[j] = \"_*\"\n",
    "\n",
    "    return k\n",
    "\n",
    "# Testing the function with example \n",
    "nums = [3, 2, 2, 3]\n",
    "val = 3\n",
    "output = removetheElement(nums, val)\n",
    "print(output)\n",
    "print(nums)"
   ]
  },
  {
   "cell_type": "markdown",
   "id": "bd696f79",
   "metadata": {},
   "source": [
    "**Q3.** Given a sorted array of distinct integers and a target value, return the index if the target is found. If not, return the index where it would be if it were inserted in order.\n",
    "\n",
    "You must write an algorithm with O(log n) runtime complexity.\n",
    "\n",
    "**Example 1:**\n",
    "Input: nums = [1,3,5,6], target = 5\n",
    "\n",
    "Output: 2"
   ]
  },
  {
   "cell_type": "code",
   "execution_count": 11,
   "id": "6e23e2a5",
   "metadata": {},
   "outputs": [
    {
     "name": "stdout",
     "output_type": "stream",
     "text": [
      "2\n"
     ]
    }
   ],
   "source": [
    "def searchInsert(nums, target):\n",
    "    left = 0\n",
    "    right = len(nums) - 1\n",
    "\n",
    "    while left <= right:\n",
    "        mid = (left + right) // 2\n",
    "        if nums[mid] == target:\n",
    "            return mid\n",
    "        elif nums[mid] < target:\n",
    "            left = mid + 1\n",
    "        else:\n",
    "            right = mid - 1\n",
    "\n",
    "    # If target is not found, return the index where it would be inserted\n",
    "    return left\n",
    "\n",
    "# Test the function with the example input\n",
    "nums = [1, 3, 5, 6]\n",
    "target = 5\n",
    "output = searchInsert(nums, target)\n",
    "print(output)"
   ]
  },
  {
   "cell_type": "markdown",
   "id": "1d6170f1",
   "metadata": {},
   "source": [
    "**Q4.** You are given a large integer represented as an integer array digits, where each digits[i] is the ith digit of the integer. The digits are ordered from most significant to least significant in left-to-right order. The large integer does not contain any leading 0's.\n",
    "\n",
    "Increment the large integer by one and return the resulting array of digits.\n",
    "\n",
    "**Example 1:**\n",
    "Input: digits = [1,2,3]\n",
    "Output: [1,2,4]\n",
    "\n",
    "**Explanation:** The array represents the integer 123.\n",
    "\n",
    "Incrementing by one gives 123 + 1 = 124.\n",
    "Thus, the result should be [1,2,4]"
   ]
  },
  {
   "cell_type": "code",
   "execution_count": 12,
   "id": "aa032042",
   "metadata": {},
   "outputs": [
    {
     "name": "stdout",
     "output_type": "stream",
     "text": [
      "[1, 2, 4]\n"
     ]
    }
   ],
   "source": [
    "def plusOne(digits):\n",
    "    n = len(digits)\n",
    "    \n",
    "    # Iterate through the digits from right to left\n",
    "    for i in range(n - 1, -1, -1):\n",
    "        # Increment the current digit by one\n",
    "        \n",
    "        digits[i] += 1\n",
    "        # If there is no carry, return the digits\n",
    "        if digits[i] < 10:\n",
    "            return digits\n",
    "        \n",
    "        # If there is a carry, set the current digit to zero and propagate the carry to the next digit\n",
    "        digits[i] = 0\n",
    "    \n",
    "    # If there is still a carry after iterating through all the digits, insert a new digit at the beginning\n",
    "    digits.insert(0, 1)\n",
    "    \n",
    "    return digits\n",
    "\n",
    "# Test the function with the example input\n",
    "digits = [1, 2, 3]\n",
    "output = plusOne(digits)\n",
    "print(output)"
   ]
  },
  {
   "cell_type": "markdown",
   "id": "1572701f",
   "metadata": {},
   "source": [
    "**Q5.** You are given two integer arrays nums1 and nums2, sorted in non-decreasing order, and two integers m and n, representing the number of elements in nums1 and nums2 respectively.\n",
    "\n",
    "Merge nums1 and nums2 into a single array sorted in non-decreasing order.\n",
    "\n",
    "The final sorted array should not be returned by the function, but instead be stored inside the array nums1. To accommodate this, nums1 has a length of m + n, where the first m elements denote the elements that should be merged, and the last n elements are set to 0 and should be ignored. nums2 has a length of n.\n",
    "\n",
    "**Example 1:**\n",
    "Input: nums1 = [1,2,3,0,0,0], m = 3, nums2 = [2,5,6], n = 3\n",
    "Output: [1,2,2,3,5,6]\n",
    "\n",
    "**Explanation:** The arrays we are merging are [1,2,3] and [2,5,6].\n",
    "The result of the merge is [1,2,2,3,5,6] with the underlined elements coming from nums1."
   ]
  },
  {
   "cell_type": "code",
   "execution_count": 15,
   "id": "70785099",
   "metadata": {},
   "outputs": [
    {
     "name": "stdout",
     "output_type": "stream",
     "text": [
      "[1, 2, 2, 3, 5, 6]\n"
     ]
    }
   ],
   "source": [
    "def merge(nums1, m, nums2, n):\n",
    "    # Initialize two pointers for nums1 and nums2\n",
    "    p1 = m - 1\n",
    "    p2 = n - 1\n",
    "\n",
    "    # Initialize a pointer for the merged array nums1\n",
    "    p = m + n - 1\n",
    "\n",
    "    # Merge the arrays from right to left\n",
    "    while p1 >= 0 and p2 >= 0:\n",
    "        if nums1[p1] >= nums2[p2]:\n",
    "            nums1[p] = nums1[p1]\n",
    "            p1 -= 1\n",
    "        else:\n",
    "            nums1[p] = nums2[p2]\n",
    "            p2 -= 1\n",
    "        p -= 1\n",
    "\n",
    "    # If there are remaining elements in nums2, copy them to nums1\n",
    "    while p2 >= 0:\n",
    "        nums1[p] = nums2[p2]\n",
    "        p2 -= 1\n",
    "        p -= 1\n",
    "\n",
    "    # nums1 is now the merged and sorted array\n",
    "    return nums1\n",
    "\n",
    "# Test the function with the example input\n",
    "nums1 = [1, 2, 3, 0, 0, 0]\n",
    "m = 3\n",
    "nums2 = [2, 5, 6]\n",
    "n = 3\n",
    "output = merge(nums1, m, nums2, n)\n",
    "print(output)"
   ]
  },
  {
   "cell_type": "markdown",
   "id": "f05586bf",
   "metadata": {},
   "source": [
    "**Q6.** Given an integer array nums, return true if any value appears at least twice in the array, and return false if every element is distinct.\n",
    "\n",
    "**Example 1:**\n",
    "Input: nums = [1,2,3,1]\n",
    "\n",
    "Output: true"
   ]
  },
  {
   "cell_type": "code",
   "execution_count": 16,
   "id": "694b805c",
   "metadata": {},
   "outputs": [
    {
     "name": "stdout",
     "output_type": "stream",
     "text": [
      "True\n"
     ]
    }
   ],
   "source": [
    "def containsDuplicate(nums):\n",
    "    num_set = set()\n",
    "\n",
    "    for num in nums:\n",
    "        if num in num_set:\n",
    "            return True\n",
    "        num_set.add(num)\n",
    "\n",
    "    return False\n",
    "\n",
    "# Test the function with the example input\n",
    "nums = [1, 2, 3, 1]\n",
    "output = containsDuplicate(nums)\n",
    "print(output)"
   ]
  },
  {
   "cell_type": "markdown",
   "id": "a6be5c73",
   "metadata": {},
   "source": [
    "**Q7.** Given an integer array nums, move all 0's to the end of it while maintaining the relative order of the nonzero elements.\n",
    "\n",
    "Note that you must do this in-place without making a copy of the array.\n",
    "\n",
    "**Example 1:**\n",
    "Input: nums = [0,1,0,3,12]\n",
    "Output: [1,3,12,0,0]"
   ]
  },
  {
   "cell_type": "code",
   "execution_count": 18,
   "id": "40f3b8fb",
   "metadata": {},
   "outputs": [
    {
     "name": "stdout",
     "output_type": "stream",
     "text": [
      "[1, 3, 12, 0, 0]\n"
     ]
    }
   ],
   "source": [
    "def moveZeroes(nums):\n",
    "    # Initialize a pointer to keep track of the position to place the next nonzero element\n",
    "    next_nonzero = 0\n",
    "\n",
    "    # Iterate through the array\n",
    "    for i in range(len(nums)):\n",
    "        if nums[i] != 0:\n",
    "            # Swap the current element with the next nonzero position\n",
    "            nums[i], nums[next_nonzero] = nums[next_nonzero], nums[i]\n",
    "            next_nonzero += 1\n",
    "\n",
    "    # The zeros have been moved to the end while maintaining the order of the nonzero elements\n",
    "    return nums\n",
    "\n",
    "# Test the function with the example input\n",
    "nums = [0, 1, 0, 3, 12]\n",
    "output = moveZeroes(nums)\n",
    "print(output)"
   ]
  },
  {
   "cell_type": "markdown",
   "id": "37151bac",
   "metadata": {},
   "source": [
    "**Q8** You have a set of integers s, which originally contains all the numbers from 1 to n. Unfortunately, due to some error, one of the numbers in s got duplicated to another number in the set, which results in repetition of one number and loss of another number.\n",
    "\n",
    "You are given an integer array nums representing the data status of this set after the error.\n",
    "\n",
    "Find the number that occurs twice and the number that is missing and return them in the form of an array.\n",
    "\n",
    "**Example 1:**\n",
    "Input: nums = [1,2,2,4]\n",
    "\n",
    "Output: [2,3]"
   ]
  },
  {
   "cell_type": "code",
   "execution_count": 19,
   "id": "d03a257f",
   "metadata": {},
   "outputs": [
    {
     "name": "stdout",
     "output_type": "stream",
     "text": [
      "[2, 3]\n"
     ]
    }
   ],
   "source": [
    "def findErrorNums(nums):\n",
    "    n = len(nums)\n",
    "    num_set = set()\n",
    "    duplicate = -1\n",
    "\n",
    "    # Find the duplicate number\n",
    "    for num in nums:\n",
    "        if num in num_set:\n",
    "            duplicate = num\n",
    "        else:\n",
    "            num_set.add(num)\n",
    "\n",
    "    # Find the missing number\n",
    "    missing = 0\n",
    "    for i in range(1, n + 1):\n",
    "        if i not in num_set:\n",
    "            missing = i\n",
    "            break\n",
    "\n",
    "    return [duplicate, missing]\n",
    "\n",
    "# Test the function with the example input\n",
    "nums = [1, 2, 2, 4]\n",
    "output = findErrorNums(nums)\n",
    "print(output)"
   ]
  },
  {
   "cell_type": "code",
   "execution_count": null,
   "id": "f5ee09ed",
   "metadata": {},
   "outputs": [],
   "source": []
  }
 ],
 "metadata": {
  "kernelspec": {
   "display_name": "Python 3 (ipykernel)",
   "language": "python",
   "name": "python3"
  },
  "language_info": {
   "codemirror_mode": {
    "name": "ipython",
    "version": 3
   },
   "file_extension": ".py",
   "mimetype": "text/x-python",
   "name": "python",
   "nbconvert_exporter": "python",
   "pygments_lexer": "ipython3",
   "version": "3.9.12"
  }
 },
 "nbformat": 4,
 "nbformat_minor": 5
}
